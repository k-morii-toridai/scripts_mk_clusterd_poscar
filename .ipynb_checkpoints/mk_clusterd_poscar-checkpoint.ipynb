{
 "cells": [
  {
   "cell_type": "markdown",
   "metadata": {},
   "source": [
    "# BaCO3"
   ]
  },
  {
   "cell_type": "markdown",
   "metadata": {},
   "source": [
    "### Ba^2+ (https://sakaki.issp.u-tokyo.ac.jp/expdata/periodic/Ba)\n",
    "### CO3^2-"
   ]
  },
  {
   "cell_type": "markdown",
   "metadata": {},
   "source": [
    "### python3のバージョンを確認"
   ]
  },
  {
   "cell_type": "code",
   "execution_count": 2,
   "metadata": {
    "tags": []
   },
   "outputs": [
    {
     "name": "stdout",
     "output_type": "stream",
     "text": [
      "/usr/bin/python3\n"
     ]
    }
   ],
   "source": [
    "!which python3"
   ]
  },
  {
   "cell_type": "markdown",
   "metadata": {},
   "source": [
    "### packageからVESTAを読みだす"
   ]
  },
  {
   "cell_type": "code",
   "execution_count": 3,
   "metadata": {
    "tags": []
   },
   "outputs": [],
   "source": [
    "from my_package import visualize"
   ]
  },
  {
   "cell_type": "markdown",
   "metadata": {},
   "source": [
    "### ASEでPOSCARファイルを可視化"
   ]
  },
  {
   "cell_type": "code",
   "execution_count": 4,
   "metadata": {
    "tags": []
   },
   "outputs": [
    {
     "data": {
      "application/vnd.jupyter.widget-view+json": {
       "model_id": "5649a479b5ef468fb17f35ce31e4151a",
       "version_major": 2,
       "version_minor": 0
      },
      "text/plain": []
     },
     "metadata": {},
     "output_type": "display_data"
    },
    {
     "data": {
      "application/vnd.jupyter.widget-view+json": {
       "model_id": "7513c340bfd648f188b31cf8e4279615",
       "version_major": 2,
       "version_minor": 0
      },
      "text/plain": [
       "HBox(children=(NGLWidget(), VBox(children=(Dropdown(description='Show', options=('All', 'C', 'O', 'Ba'), value…"
      ]
     },
     "execution_count": 4,
     "metadata": {},
     "output_type": "execute_result"
    }
   ],
   "source": [
    "from ase.io import read, write\n",
    "# POSCARファイルの読み込み\n",
    "atoms = read('POSCAR')\n",
    "\n",
    "# POSCARファイルの描画\n",
    "from ase.visualize import view, ngl\n",
    "ngl.view_ngl(atoms)"
   ]
  },
  {
   "cell_type": "markdown",
   "metadata": {},
   "source": [
    "### Converting a POSCAR file to a DataFrame"
   ]
  },
  {
   "cell_type": "code",
   "execution_count": 5,
   "metadata": {
    "tags": []
   },
   "outputs": [
    {
     "data": {
      "text/html": [
       "<div>\n",
       "<style scoped>\n",
       "    .dataframe tbody tr th:only-of-type {\n",
       "        vertical-align: middle;\n",
       "    }\n",
       "\n",
       "    .dataframe tbody tr th {\n",
       "        vertical-align: top;\n",
       "    }\n",
       "\n",
       "    .dataframe thead th {\n",
       "        text-align: right;\n",
       "    }\n",
       "</style>\n",
       "<table border=\"1\" class=\"dataframe\">\n",
       "  <thead>\n",
       "    <tr style=\"text-align: right;\">\n",
       "      <th></th>\n",
       "      <th>central atom</th>\n",
       "      <th>x</th>\n",
       "      <th>y</th>\n",
       "      <th>z</th>\n",
       "      <th>Species</th>\n",
       "    </tr>\n",
       "  </thead>\n",
       "  <tbody>\n",
       "    <tr>\n",
       "      <th>0</th>\n",
       "      <td>1</td>\n",
       "      <td>0.250000000000000</td>\n",
       "      <td>0.757000000000000</td>\n",
       "      <td>0.919000000000000</td>\n",
       "      <td>C</td>\n",
       "    </tr>\n",
       "    <tr>\n",
       "      <th>1</th>\n",
       "      <td>2</td>\n",
       "      <td>0.250000000000000</td>\n",
       "      <td>0.743000000000000</td>\n",
       "      <td>0.419000000000000</td>\n",
       "      <td>C</td>\n",
       "    </tr>\n",
       "    <tr>\n",
       "      <th>2</th>\n",
       "      <td>3</td>\n",
       "      <td>0.750000000000000</td>\n",
       "      <td>0.243000000000000</td>\n",
       "      <td>0.081000000000000</td>\n",
       "      <td>C</td>\n",
       "    </tr>\n",
       "    <tr>\n",
       "      <th>3</th>\n",
       "      <td>4</td>\n",
       "      <td>0.750000000000000</td>\n",
       "      <td>0.257000000000000</td>\n",
       "      <td>0.581000000000000</td>\n",
       "      <td>C</td>\n",
       "    </tr>\n",
       "    <tr>\n",
       "      <th>4</th>\n",
       "      <td>5</td>\n",
       "      <td>0.250000000000000</td>\n",
       "      <td>0.416310000000000</td>\n",
       "      <td>0.754900000000000</td>\n",
       "      <td>Ba</td>\n",
       "    </tr>\n",
       "    <tr>\n",
       "      <th>5</th>\n",
       "      <td>6</td>\n",
       "      <td>0.250000000000000</td>\n",
       "      <td>0.083690000000000</td>\n",
       "      <td>0.254900000000000</td>\n",
       "      <td>Ba</td>\n",
       "    </tr>\n",
       "    <tr>\n",
       "      <th>6</th>\n",
       "      <td>7</td>\n",
       "      <td>0.750000000000000</td>\n",
       "      <td>0.583690000000000</td>\n",
       "      <td>0.245100000000000</td>\n",
       "      <td>Ba</td>\n",
       "    </tr>\n",
       "    <tr>\n",
       "      <th>7</th>\n",
       "      <td>8</td>\n",
       "      <td>0.750000000000000</td>\n",
       "      <td>0.916310000000000</td>\n",
       "      <td>0.745100000000000</td>\n",
       "      <td>Ba</td>\n",
       "    </tr>\n",
       "    <tr>\n",
       "      <th>8</th>\n",
       "      <td>9</td>\n",
       "      <td>0.250000000000000</td>\n",
       "      <td>0.901100000000000</td>\n",
       "      <td>0.912200000000000</td>\n",
       "      <td>O</td>\n",
       "    </tr>\n",
       "    <tr>\n",
       "      <th>9</th>\n",
       "      <td>10</td>\n",
       "      <td>0.250000000000000</td>\n",
       "      <td>0.598900000000000</td>\n",
       "      <td>0.412200000000000</td>\n",
       "      <td>O</td>\n",
       "    </tr>\n",
       "    <tr>\n",
       "      <th>10</th>\n",
       "      <td>11</td>\n",
       "      <td>0.750000000000000</td>\n",
       "      <td>0.098900000000000</td>\n",
       "      <td>0.087800000000000</td>\n",
       "      <td>O</td>\n",
       "    </tr>\n",
       "    <tr>\n",
       "      <th>11</th>\n",
       "      <td>12</td>\n",
       "      <td>0.750000000000000</td>\n",
       "      <td>0.401100000000000</td>\n",
       "      <td>0.587800000000000</td>\n",
       "      <td>O</td>\n",
       "    </tr>\n",
       "    <tr>\n",
       "      <th>12</th>\n",
       "      <td>13</td>\n",
       "      <td>0.459500000000000</td>\n",
       "      <td>0.683900000000000</td>\n",
       "      <td>0.921000000000000</td>\n",
       "      <td>O</td>\n",
       "    </tr>\n",
       "    <tr>\n",
       "      <th>13</th>\n",
       "      <td>14</td>\n",
       "      <td>0.040500000000000</td>\n",
       "      <td>0.816100000000000</td>\n",
       "      <td>0.421000000000000</td>\n",
       "      <td>O</td>\n",
       "    </tr>\n",
       "    <tr>\n",
       "      <th>14</th>\n",
       "      <td>15</td>\n",
       "      <td>0.540500000000000</td>\n",
       "      <td>0.316100000000000</td>\n",
       "      <td>0.079000000000000</td>\n",
       "      <td>O</td>\n",
       "    </tr>\n",
       "    <tr>\n",
       "      <th>15</th>\n",
       "      <td>16</td>\n",
       "      <td>0.040500000000000</td>\n",
       "      <td>0.683900000000000</td>\n",
       "      <td>0.921000000000000</td>\n",
       "      <td>O</td>\n",
       "    </tr>\n",
       "    <tr>\n",
       "      <th>16</th>\n",
       "      <td>17</td>\n",
       "      <td>0.459500000000000</td>\n",
       "      <td>0.816100000000000</td>\n",
       "      <td>0.421000000000000</td>\n",
       "      <td>O</td>\n",
       "    </tr>\n",
       "    <tr>\n",
       "      <th>17</th>\n",
       "      <td>18</td>\n",
       "      <td>0.959500000000000</td>\n",
       "      <td>0.183900000000000</td>\n",
       "      <td>0.579000000000000</td>\n",
       "      <td>O</td>\n",
       "    </tr>\n",
       "    <tr>\n",
       "      <th>18</th>\n",
       "      <td>19</td>\n",
       "      <td>0.959500000000000</td>\n",
       "      <td>0.316100000000000</td>\n",
       "      <td>0.079000000000000</td>\n",
       "      <td>O</td>\n",
       "    </tr>\n",
       "    <tr>\n",
       "      <th>19</th>\n",
       "      <td>20</td>\n",
       "      <td>0.540500000000000</td>\n",
       "      <td>0.183900000000000</td>\n",
       "      <td>0.579000000000000</td>\n",
       "      <td>O</td>\n",
       "    </tr>\n",
       "  </tbody>\n",
       "</table>\n",
       "</div>"
      ],
      "text/plain": [
       "    central atom                  x                  y                  z  \\\n",
       "0              1  0.250000000000000  0.757000000000000  0.919000000000000   \n",
       "1              2  0.250000000000000  0.743000000000000  0.419000000000000   \n",
       "2              3  0.750000000000000  0.243000000000000  0.081000000000000   \n",
       "3              4  0.750000000000000  0.257000000000000  0.581000000000000   \n",
       "4              5  0.250000000000000  0.416310000000000  0.754900000000000   \n",
       "5              6  0.250000000000000  0.083690000000000  0.254900000000000   \n",
       "6              7  0.750000000000000  0.583690000000000  0.245100000000000   \n",
       "7              8  0.750000000000000  0.916310000000000  0.745100000000000   \n",
       "8              9  0.250000000000000  0.901100000000000  0.912200000000000   \n",
       "9             10  0.250000000000000  0.598900000000000  0.412200000000000   \n",
       "10            11  0.750000000000000  0.098900000000000  0.087800000000000   \n",
       "11            12  0.750000000000000  0.401100000000000  0.587800000000000   \n",
       "12            13  0.459500000000000  0.683900000000000  0.921000000000000   \n",
       "13            14  0.040500000000000  0.816100000000000  0.421000000000000   \n",
       "14            15  0.540500000000000  0.316100000000000  0.079000000000000   \n",
       "15            16  0.040500000000000  0.683900000000000  0.921000000000000   \n",
       "16            17  0.459500000000000  0.816100000000000  0.421000000000000   \n",
       "17            18  0.959500000000000  0.183900000000000  0.579000000000000   \n",
       "18            19  0.959500000000000  0.316100000000000  0.079000000000000   \n",
       "19            20  0.540500000000000  0.183900000000000  0.579000000000000   \n",
       "\n",
       "   Species  \n",
       "0        C  \n",
       "1        C  \n",
       "2        C  \n",
       "3        C  \n",
       "4       Ba  \n",
       "5       Ba  \n",
       "6       Ba  \n",
       "7       Ba  \n",
       "8        O  \n",
       "9        O  \n",
       "10       O  \n",
       "11       O  \n",
       "12       O  \n",
       "13       O  \n",
       "14       O  \n",
       "15       O  \n",
       "16       O  \n",
       "17       O  \n",
       "18       O  \n",
       "19       O  "
      ]
     },
     "execution_count": 5,
     "metadata": {},
     "output_type": "execute_result"
    }
   ],
   "source": [
    "from my_package.textfile2df import poscar2df_coords \n",
    "\n",
    "df_coords = poscar2df_coords(filename='./POSCAR')\n",
    "df_coords"
   ]
  },
  {
   "cell_type": "markdown",
   "metadata": {},
   "source": [
    "### converting POSCAR.nnlist to df_nnlist"
   ]
  },
  {
   "cell_type": "code",
   "execution_count": 6,
   "metadata": {
    "tags": []
   },
   "outputs": [
    {
     "data": {
      "text/html": [
       "<div>\n",
       "<style scoped>\n",
       "    .dataframe tbody tr th:only-of-type {\n",
       "        vertical-align: middle;\n",
       "    }\n",
       "\n",
       "    .dataframe tbody tr th {\n",
       "        vertical-align: top;\n",
       "    }\n",
       "\n",
       "    .dataframe thead th {\n",
       "        text-align: right;\n",
       "    }\n",
       "</style>\n",
       "<table border=\"1\" class=\"dataframe\">\n",
       "  <thead>\n",
       "    <tr style=\"text-align: right;\">\n",
       "      <th></th>\n",
       "      <th>central atom</th>\n",
       "      <th>neighboring atom</th>\n",
       "      <th>distance</th>\n",
       "      <th>X</th>\n",
       "      <th>Y</th>\n",
       "      <th>Z</th>\n",
       "      <th>unitcell_x</th>\n",
       "      <th>unitcell_y</th>\n",
       "      <th>unitcell_z</th>\n",
       "      <th>central species</th>\n",
       "      <th>neighboring species</th>\n",
       "    </tr>\n",
       "  </thead>\n",
       "  <tbody>\n",
       "    <tr>\n",
       "      <th>0</th>\n",
       "      <td>1</td>\n",
       "      <td>1</td>\n",
       "      <td>0.000000</td>\n",
       "      <td>0.000000</td>\n",
       "      <td>0.000000</td>\n",
       "      <td>0.000000</td>\n",
       "      <td>0</td>\n",
       "      <td>0</td>\n",
       "      <td>0</td>\n",
       "      <td>C</td>\n",
       "      <td>C</td>\n",
       "    </tr>\n",
       "    <tr>\n",
       "      <th>1</th>\n",
       "      <td>1</td>\n",
       "      <td>9</td>\n",
       "      <td>1.282630</td>\n",
       "      <td>0.000000</td>\n",
       "      <td>1.281885</td>\n",
       "      <td>-0.043713</td>\n",
       "      <td>0</td>\n",
       "      <td>0</td>\n",
       "      <td>0</td>\n",
       "      <td>C</td>\n",
       "      <td>O</td>\n",
       "    </tr>\n",
       "    <tr>\n",
       "      <th>2</th>\n",
       "      <td>1</td>\n",
       "      <td>13</td>\n",
       "      <td>1.289100</td>\n",
       "      <td>1.112990</td>\n",
       "      <td>-0.650283</td>\n",
       "      <td>0.012857</td>\n",
       "      <td>0</td>\n",
       "      <td>0</td>\n",
       "      <td>0</td>\n",
       "      <td>C</td>\n",
       "      <td>O</td>\n",
       "    </tr>\n",
       "    <tr>\n",
       "      <th>3</th>\n",
       "      <td>1</td>\n",
       "      <td>16</td>\n",
       "      <td>1.289100</td>\n",
       "      <td>-1.112990</td>\n",
       "      <td>-0.650283</td>\n",
       "      <td>0.012857</td>\n",
       "      <td>0</td>\n",
       "      <td>0</td>\n",
       "      <td>0</td>\n",
       "      <td>C</td>\n",
       "      <td>O</td>\n",
       "    </tr>\n",
       "    <tr>\n",
       "      <th>4</th>\n",
       "      <td>2</td>\n",
       "      <td>2</td>\n",
       "      <td>0.000000</td>\n",
       "      <td>0.000000</td>\n",
       "      <td>0.000000</td>\n",
       "      <td>0.000000</td>\n",
       "      <td>0</td>\n",
       "      <td>0</td>\n",
       "      <td>0</td>\n",
       "      <td>C</td>\n",
       "      <td>C</td>\n",
       "    </tr>\n",
       "    <tr>\n",
       "      <th>5</th>\n",
       "      <td>2</td>\n",
       "      <td>10</td>\n",
       "      <td>1.282630</td>\n",
       "      <td>0.000000</td>\n",
       "      <td>-1.281885</td>\n",
       "      <td>-0.043713</td>\n",
       "      <td>0</td>\n",
       "      <td>0</td>\n",
       "      <td>0</td>\n",
       "      <td>C</td>\n",
       "      <td>O</td>\n",
       "    </tr>\n",
       "    <tr>\n",
       "      <th>6</th>\n",
       "      <td>2</td>\n",
       "      <td>14</td>\n",
       "      <td>1.289100</td>\n",
       "      <td>-1.112990</td>\n",
       "      <td>0.650283</td>\n",
       "      <td>0.012857</td>\n",
       "      <td>0</td>\n",
       "      <td>0</td>\n",
       "      <td>0</td>\n",
       "      <td>C</td>\n",
       "      <td>O</td>\n",
       "    </tr>\n",
       "    <tr>\n",
       "      <th>7</th>\n",
       "      <td>2</td>\n",
       "      <td>17</td>\n",
       "      <td>1.289100</td>\n",
       "      <td>1.112990</td>\n",
       "      <td>0.650283</td>\n",
       "      <td>0.012857</td>\n",
       "      <td>0</td>\n",
       "      <td>0</td>\n",
       "      <td>0</td>\n",
       "      <td>C</td>\n",
       "      <td>O</td>\n",
       "    </tr>\n",
       "    <tr>\n",
       "      <th>8</th>\n",
       "      <td>3</td>\n",
       "      <td>3</td>\n",
       "      <td>0.000000</td>\n",
       "      <td>0.000000</td>\n",
       "      <td>0.000000</td>\n",
       "      <td>0.000000</td>\n",
       "      <td>0</td>\n",
       "      <td>0</td>\n",
       "      <td>0</td>\n",
       "      <td>C</td>\n",
       "      <td>C</td>\n",
       "    </tr>\n",
       "    <tr>\n",
       "      <th>9</th>\n",
       "      <td>3</td>\n",
       "      <td>11</td>\n",
       "      <td>1.282630</td>\n",
       "      <td>0.000000</td>\n",
       "      <td>-1.281885</td>\n",
       "      <td>0.043713</td>\n",
       "      <td>0</td>\n",
       "      <td>0</td>\n",
       "      <td>0</td>\n",
       "      <td>C</td>\n",
       "      <td>O</td>\n",
       "    </tr>\n",
       "    <tr>\n",
       "      <th>10</th>\n",
       "      <td>3</td>\n",
       "      <td>15</td>\n",
       "      <td>1.289100</td>\n",
       "      <td>-1.112990</td>\n",
       "      <td>0.650283</td>\n",
       "      <td>-0.012857</td>\n",
       "      <td>0</td>\n",
       "      <td>0</td>\n",
       "      <td>0</td>\n",
       "      <td>C</td>\n",
       "      <td>O</td>\n",
       "    </tr>\n",
       "    <tr>\n",
       "      <th>11</th>\n",
       "      <td>3</td>\n",
       "      <td>19</td>\n",
       "      <td>1.289100</td>\n",
       "      <td>1.112990</td>\n",
       "      <td>0.650283</td>\n",
       "      <td>-0.012857</td>\n",
       "      <td>0</td>\n",
       "      <td>0</td>\n",
       "      <td>0</td>\n",
       "      <td>C</td>\n",
       "      <td>O</td>\n",
       "    </tr>\n",
       "    <tr>\n",
       "      <th>12</th>\n",
       "      <td>4</td>\n",
       "      <td>4</td>\n",
       "      <td>0.000000</td>\n",
       "      <td>0.000000</td>\n",
       "      <td>0.000000</td>\n",
       "      <td>0.000000</td>\n",
       "      <td>0</td>\n",
       "      <td>0</td>\n",
       "      <td>0</td>\n",
       "      <td>C</td>\n",
       "      <td>C</td>\n",
       "    </tr>\n",
       "    <tr>\n",
       "      <th>13</th>\n",
       "      <td>4</td>\n",
       "      <td>12</td>\n",
       "      <td>1.282630</td>\n",
       "      <td>0.000000</td>\n",
       "      <td>1.281885</td>\n",
       "      <td>0.043713</td>\n",
       "      <td>0</td>\n",
       "      <td>0</td>\n",
       "      <td>0</td>\n",
       "      <td>C</td>\n",
       "      <td>O</td>\n",
       "    </tr>\n",
       "    <tr>\n",
       "      <th>14</th>\n",
       "      <td>4</td>\n",
       "      <td>18</td>\n",
       "      <td>1.289100</td>\n",
       "      <td>1.112990</td>\n",
       "      <td>-0.650283</td>\n",
       "      <td>-0.012857</td>\n",
       "      <td>0</td>\n",
       "      <td>0</td>\n",
       "      <td>0</td>\n",
       "      <td>C</td>\n",
       "      <td>O</td>\n",
       "    </tr>\n",
       "    <tr>\n",
       "      <th>15</th>\n",
       "      <td>4</td>\n",
       "      <td>20</td>\n",
       "      <td>1.289100</td>\n",
       "      <td>-1.112990</td>\n",
       "      <td>-0.650283</td>\n",
       "      <td>-0.012857</td>\n",
       "      <td>0</td>\n",
       "      <td>0</td>\n",
       "      <td>0</td>\n",
       "      <td>C</td>\n",
       "      <td>O</td>\n",
       "    </tr>\n",
       "    <tr>\n",
       "      <th>16</th>\n",
       "      <td>5</td>\n",
       "      <td>5</td>\n",
       "      <td>0.000000</td>\n",
       "      <td>0.000000</td>\n",
       "      <td>0.000000</td>\n",
       "      <td>0.000000</td>\n",
       "      <td>0</td>\n",
       "      <td>0</td>\n",
       "      <td>0</td>\n",
       "      <td>Ba</td>\n",
       "      <td>Ba</td>\n",
       "    </tr>\n",
       "    <tr>\n",
       "      <th>17</th>\n",
       "      <td>6</td>\n",
       "      <td>6</td>\n",
       "      <td>0.000000</td>\n",
       "      <td>0.000000</td>\n",
       "      <td>0.000000</td>\n",
       "      <td>0.000000</td>\n",
       "      <td>0</td>\n",
       "      <td>0</td>\n",
       "      <td>0</td>\n",
       "      <td>Ba</td>\n",
       "      <td>Ba</td>\n",
       "    </tr>\n",
       "    <tr>\n",
       "      <th>18</th>\n",
       "      <td>7</td>\n",
       "      <td>7</td>\n",
       "      <td>0.000000</td>\n",
       "      <td>0.000000</td>\n",
       "      <td>0.000000</td>\n",
       "      <td>0.000000</td>\n",
       "      <td>0</td>\n",
       "      <td>0</td>\n",
       "      <td>0</td>\n",
       "      <td>Ba</td>\n",
       "      <td>Ba</td>\n",
       "    </tr>\n",
       "    <tr>\n",
       "      <th>19</th>\n",
       "      <td>8</td>\n",
       "      <td>8</td>\n",
       "      <td>0.000000</td>\n",
       "      <td>0.000000</td>\n",
       "      <td>0.000000</td>\n",
       "      <td>0.000000</td>\n",
       "      <td>0</td>\n",
       "      <td>0</td>\n",
       "      <td>0</td>\n",
       "      <td>Ba</td>\n",
       "      <td>Ba</td>\n",
       "    </tr>\n",
       "    <tr>\n",
       "      <th>20</th>\n",
       "      <td>9</td>\n",
       "      <td>1</td>\n",
       "      <td>1.282630</td>\n",
       "      <td>0.000000</td>\n",
       "      <td>-1.281885</td>\n",
       "      <td>0.043713</td>\n",
       "      <td>0</td>\n",
       "      <td>0</td>\n",
       "      <td>0</td>\n",
       "      <td>O</td>\n",
       "      <td>C</td>\n",
       "    </tr>\n",
       "    <tr>\n",
       "      <th>21</th>\n",
       "      <td>9</td>\n",
       "      <td>9</td>\n",
       "      <td>0.000000</td>\n",
       "      <td>0.000000</td>\n",
       "      <td>0.000000</td>\n",
       "      <td>0.000000</td>\n",
       "      <td>0</td>\n",
       "      <td>0</td>\n",
       "      <td>0</td>\n",
       "      <td>O</td>\n",
       "      <td>O</td>\n",
       "    </tr>\n",
       "    <tr>\n",
       "      <th>22</th>\n",
       "      <td>10</td>\n",
       "      <td>2</td>\n",
       "      <td>1.282630</td>\n",
       "      <td>0.000000</td>\n",
       "      <td>1.281885</td>\n",
       "      <td>0.043713</td>\n",
       "      <td>0</td>\n",
       "      <td>0</td>\n",
       "      <td>0</td>\n",
       "      <td>O</td>\n",
       "      <td>C</td>\n",
       "    </tr>\n",
       "    <tr>\n",
       "      <th>23</th>\n",
       "      <td>10</td>\n",
       "      <td>10</td>\n",
       "      <td>0.000000</td>\n",
       "      <td>0.000000</td>\n",
       "      <td>0.000000</td>\n",
       "      <td>0.000000</td>\n",
       "      <td>0</td>\n",
       "      <td>0</td>\n",
       "      <td>0</td>\n",
       "      <td>O</td>\n",
       "      <td>O</td>\n",
       "    </tr>\n",
       "    <tr>\n",
       "      <th>24</th>\n",
       "      <td>11</td>\n",
       "      <td>3</td>\n",
       "      <td>1.282630</td>\n",
       "      <td>0.000000</td>\n",
       "      <td>1.281885</td>\n",
       "      <td>-0.043713</td>\n",
       "      <td>0</td>\n",
       "      <td>0</td>\n",
       "      <td>0</td>\n",
       "      <td>O</td>\n",
       "      <td>C</td>\n",
       "    </tr>\n",
       "    <tr>\n",
       "      <th>25</th>\n",
       "      <td>11</td>\n",
       "      <td>11</td>\n",
       "      <td>0.000000</td>\n",
       "      <td>0.000000</td>\n",
       "      <td>0.000000</td>\n",
       "      <td>0.000000</td>\n",
       "      <td>0</td>\n",
       "      <td>0</td>\n",
       "      <td>0</td>\n",
       "      <td>O</td>\n",
       "      <td>O</td>\n",
       "    </tr>\n",
       "    <tr>\n",
       "      <th>26</th>\n",
       "      <td>12</td>\n",
       "      <td>4</td>\n",
       "      <td>1.282630</td>\n",
       "      <td>0.000000</td>\n",
       "      <td>-1.281885</td>\n",
       "      <td>-0.043713</td>\n",
       "      <td>0</td>\n",
       "      <td>0</td>\n",
       "      <td>0</td>\n",
       "      <td>O</td>\n",
       "      <td>C</td>\n",
       "    </tr>\n",
       "    <tr>\n",
       "      <th>27</th>\n",
       "      <td>12</td>\n",
       "      <td>12</td>\n",
       "      <td>0.000000</td>\n",
       "      <td>0.000000</td>\n",
       "      <td>0.000000</td>\n",
       "      <td>0.000000</td>\n",
       "      <td>0</td>\n",
       "      <td>0</td>\n",
       "      <td>0</td>\n",
       "      <td>O</td>\n",
       "      <td>O</td>\n",
       "    </tr>\n",
       "    <tr>\n",
       "      <th>28</th>\n",
       "      <td>13</td>\n",
       "      <td>1</td>\n",
       "      <td>1.289100</td>\n",
       "      <td>-1.112990</td>\n",
       "      <td>0.650283</td>\n",
       "      <td>-0.012857</td>\n",
       "      <td>0</td>\n",
       "      <td>0</td>\n",
       "      <td>0</td>\n",
       "      <td>O</td>\n",
       "      <td>C</td>\n",
       "    </tr>\n",
       "    <tr>\n",
       "      <th>29</th>\n",
       "      <td>13</td>\n",
       "      <td>13</td>\n",
       "      <td>0.000000</td>\n",
       "      <td>0.000000</td>\n",
       "      <td>0.000000</td>\n",
       "      <td>0.000000</td>\n",
       "      <td>0</td>\n",
       "      <td>0</td>\n",
       "      <td>0</td>\n",
       "      <td>O</td>\n",
       "      <td>O</td>\n",
       "    </tr>\n",
       "    <tr>\n",
       "      <th>30</th>\n",
       "      <td>14</td>\n",
       "      <td>2</td>\n",
       "      <td>1.289100</td>\n",
       "      <td>1.112990</td>\n",
       "      <td>-0.650283</td>\n",
       "      <td>-0.012857</td>\n",
       "      <td>0</td>\n",
       "      <td>0</td>\n",
       "      <td>0</td>\n",
       "      <td>O</td>\n",
       "      <td>C</td>\n",
       "    </tr>\n",
       "    <tr>\n",
       "      <th>31</th>\n",
       "      <td>14</td>\n",
       "      <td>14</td>\n",
       "      <td>0.000000</td>\n",
       "      <td>0.000000</td>\n",
       "      <td>0.000000</td>\n",
       "      <td>0.000000</td>\n",
       "      <td>0</td>\n",
       "      <td>0</td>\n",
       "      <td>0</td>\n",
       "      <td>O</td>\n",
       "      <td>O</td>\n",
       "    </tr>\n",
       "    <tr>\n",
       "      <th>32</th>\n",
       "      <td>15</td>\n",
       "      <td>3</td>\n",
       "      <td>1.289100</td>\n",
       "      <td>1.112990</td>\n",
       "      <td>-0.650283</td>\n",
       "      <td>0.012857</td>\n",
       "      <td>0</td>\n",
       "      <td>0</td>\n",
       "      <td>0</td>\n",
       "      <td>O</td>\n",
       "      <td>C</td>\n",
       "    </tr>\n",
       "    <tr>\n",
       "      <th>33</th>\n",
       "      <td>15</td>\n",
       "      <td>15</td>\n",
       "      <td>0.000000</td>\n",
       "      <td>0.000000</td>\n",
       "      <td>0.000000</td>\n",
       "      <td>0.000000</td>\n",
       "      <td>0</td>\n",
       "      <td>0</td>\n",
       "      <td>0</td>\n",
       "      <td>O</td>\n",
       "      <td>O</td>\n",
       "    </tr>\n",
       "    <tr>\n",
       "      <th>34</th>\n",
       "      <td>16</td>\n",
       "      <td>1</td>\n",
       "      <td>1.289100</td>\n",
       "      <td>1.112990</td>\n",
       "      <td>0.650283</td>\n",
       "      <td>-0.012857</td>\n",
       "      <td>0</td>\n",
       "      <td>0</td>\n",
       "      <td>0</td>\n",
       "      <td>O</td>\n",
       "      <td>C</td>\n",
       "    </tr>\n",
       "    <tr>\n",
       "      <th>35</th>\n",
       "      <td>16</td>\n",
       "      <td>16</td>\n",
       "      <td>0.000000</td>\n",
       "      <td>0.000000</td>\n",
       "      <td>0.000000</td>\n",
       "      <td>0.000000</td>\n",
       "      <td>0</td>\n",
       "      <td>0</td>\n",
       "      <td>0</td>\n",
       "      <td>O</td>\n",
       "      <td>O</td>\n",
       "    </tr>\n",
       "    <tr>\n",
       "      <th>36</th>\n",
       "      <td>17</td>\n",
       "      <td>2</td>\n",
       "      <td>1.289100</td>\n",
       "      <td>-1.112990</td>\n",
       "      <td>-0.650283</td>\n",
       "      <td>-0.012857</td>\n",
       "      <td>0</td>\n",
       "      <td>0</td>\n",
       "      <td>0</td>\n",
       "      <td>O</td>\n",
       "      <td>C</td>\n",
       "    </tr>\n",
       "    <tr>\n",
       "      <th>37</th>\n",
       "      <td>17</td>\n",
       "      <td>17</td>\n",
       "      <td>0.000000</td>\n",
       "      <td>0.000000</td>\n",
       "      <td>0.000000</td>\n",
       "      <td>0.000000</td>\n",
       "      <td>0</td>\n",
       "      <td>0</td>\n",
       "      <td>0</td>\n",
       "      <td>O</td>\n",
       "      <td>O</td>\n",
       "    </tr>\n",
       "    <tr>\n",
       "      <th>38</th>\n",
       "      <td>18</td>\n",
       "      <td>4</td>\n",
       "      <td>1.289100</td>\n",
       "      <td>-1.112990</td>\n",
       "      <td>0.650283</td>\n",
       "      <td>0.012857</td>\n",
       "      <td>0</td>\n",
       "      <td>0</td>\n",
       "      <td>0</td>\n",
       "      <td>O</td>\n",
       "      <td>C</td>\n",
       "    </tr>\n",
       "    <tr>\n",
       "      <th>39</th>\n",
       "      <td>18</td>\n",
       "      <td>18</td>\n",
       "      <td>0.000000</td>\n",
       "      <td>0.000000</td>\n",
       "      <td>0.000000</td>\n",
       "      <td>0.000000</td>\n",
       "      <td>0</td>\n",
       "      <td>0</td>\n",
       "      <td>0</td>\n",
       "      <td>O</td>\n",
       "      <td>O</td>\n",
       "    </tr>\n",
       "    <tr>\n",
       "      <th>40</th>\n",
       "      <td>19</td>\n",
       "      <td>3</td>\n",
       "      <td>1.289100</td>\n",
       "      <td>-1.112990</td>\n",
       "      <td>-0.650283</td>\n",
       "      <td>0.012857</td>\n",
       "      <td>0</td>\n",
       "      <td>0</td>\n",
       "      <td>0</td>\n",
       "      <td>O</td>\n",
       "      <td>C</td>\n",
       "    </tr>\n",
       "    <tr>\n",
       "      <th>41</th>\n",
       "      <td>19</td>\n",
       "      <td>19</td>\n",
       "      <td>0.000000</td>\n",
       "      <td>0.000000</td>\n",
       "      <td>0.000000</td>\n",
       "      <td>0.000000</td>\n",
       "      <td>0</td>\n",
       "      <td>0</td>\n",
       "      <td>0</td>\n",
       "      <td>O</td>\n",
       "      <td>O</td>\n",
       "    </tr>\n",
       "    <tr>\n",
       "      <th>42</th>\n",
       "      <td>20</td>\n",
       "      <td>4</td>\n",
       "      <td>1.289100</td>\n",
       "      <td>1.112990</td>\n",
       "      <td>0.650283</td>\n",
       "      <td>0.012857</td>\n",
       "      <td>0</td>\n",
       "      <td>0</td>\n",
       "      <td>0</td>\n",
       "      <td>O</td>\n",
       "      <td>C</td>\n",
       "    </tr>\n",
       "    <tr>\n",
       "      <th>43</th>\n",
       "      <td>20</td>\n",
       "      <td>20</td>\n",
       "      <td>0.000000</td>\n",
       "      <td>0.000000</td>\n",
       "      <td>0.000000</td>\n",
       "      <td>0.000000</td>\n",
       "      <td>0</td>\n",
       "      <td>0</td>\n",
       "      <td>0</td>\n",
       "      <td>O</td>\n",
       "      <td>O</td>\n",
       "    </tr>\n",
       "  </tbody>\n",
       "</table>\n",
       "</div>"
      ],
      "text/plain": [
       "    central atom  neighboring atom  distance         X         Y         Z  \\\n",
       "0              1                 1  0.000000  0.000000  0.000000  0.000000   \n",
       "1              1                 9  1.282630  0.000000  1.281885 -0.043713   \n",
       "2              1                13  1.289100  1.112990 -0.650283  0.012857   \n",
       "3              1                16  1.289100 -1.112990 -0.650283  0.012857   \n",
       "4              2                 2  0.000000  0.000000  0.000000  0.000000   \n",
       "5              2                10  1.282630  0.000000 -1.281885 -0.043713   \n",
       "6              2                14  1.289100 -1.112990  0.650283  0.012857   \n",
       "7              2                17  1.289100  1.112990  0.650283  0.012857   \n",
       "8              3                 3  0.000000  0.000000  0.000000  0.000000   \n",
       "9              3                11  1.282630  0.000000 -1.281885  0.043713   \n",
       "10             3                15  1.289100 -1.112990  0.650283 -0.012857   \n",
       "11             3                19  1.289100  1.112990  0.650283 -0.012857   \n",
       "12             4                 4  0.000000  0.000000  0.000000  0.000000   \n",
       "13             4                12  1.282630  0.000000  1.281885  0.043713   \n",
       "14             4                18  1.289100  1.112990 -0.650283 -0.012857   \n",
       "15             4                20  1.289100 -1.112990 -0.650283 -0.012857   \n",
       "16             5                 5  0.000000  0.000000  0.000000  0.000000   \n",
       "17             6                 6  0.000000  0.000000  0.000000  0.000000   \n",
       "18             7                 7  0.000000  0.000000  0.000000  0.000000   \n",
       "19             8                 8  0.000000  0.000000  0.000000  0.000000   \n",
       "20             9                 1  1.282630  0.000000 -1.281885  0.043713   \n",
       "21             9                 9  0.000000  0.000000  0.000000  0.000000   \n",
       "22            10                 2  1.282630  0.000000  1.281885  0.043713   \n",
       "23            10                10  0.000000  0.000000  0.000000  0.000000   \n",
       "24            11                 3  1.282630  0.000000  1.281885 -0.043713   \n",
       "25            11                11  0.000000  0.000000  0.000000  0.000000   \n",
       "26            12                 4  1.282630  0.000000 -1.281885 -0.043713   \n",
       "27            12                12  0.000000  0.000000  0.000000  0.000000   \n",
       "28            13                 1  1.289100 -1.112990  0.650283 -0.012857   \n",
       "29            13                13  0.000000  0.000000  0.000000  0.000000   \n",
       "30            14                 2  1.289100  1.112990 -0.650283 -0.012857   \n",
       "31            14                14  0.000000  0.000000  0.000000  0.000000   \n",
       "32            15                 3  1.289100  1.112990 -0.650283  0.012857   \n",
       "33            15                15  0.000000  0.000000  0.000000  0.000000   \n",
       "34            16                 1  1.289100  1.112990  0.650283 -0.012857   \n",
       "35            16                16  0.000000  0.000000  0.000000  0.000000   \n",
       "36            17                 2  1.289100 -1.112990 -0.650283 -0.012857   \n",
       "37            17                17  0.000000  0.000000  0.000000  0.000000   \n",
       "38            18                 4  1.289100 -1.112990  0.650283  0.012857   \n",
       "39            18                18  0.000000  0.000000  0.000000  0.000000   \n",
       "40            19                 3  1.289100 -1.112990 -0.650283  0.012857   \n",
       "41            19                19  0.000000  0.000000  0.000000  0.000000   \n",
       "42            20                 4  1.289100  1.112990  0.650283  0.012857   \n",
       "43            20                20  0.000000  0.000000  0.000000  0.000000   \n",
       "\n",
       "    unitcell_x  unitcell_y  unitcell_z central species neighboring species  \n",
       "0            0           0           0               C                   C  \n",
       "1            0           0           0               C                   O  \n",
       "2            0           0           0               C                   O  \n",
       "3            0           0           0               C                   O  \n",
       "4            0           0           0               C                   C  \n",
       "5            0           0           0               C                   O  \n",
       "6            0           0           0               C                   O  \n",
       "7            0           0           0               C                   O  \n",
       "8            0           0           0               C                   C  \n",
       "9            0           0           0               C                   O  \n",
       "10           0           0           0               C                   O  \n",
       "11           0           0           0               C                   O  \n",
       "12           0           0           0               C                   C  \n",
       "13           0           0           0               C                   O  \n",
       "14           0           0           0               C                   O  \n",
       "15           0           0           0               C                   O  \n",
       "16           0           0           0              Ba                  Ba  \n",
       "17           0           0           0              Ba                  Ba  \n",
       "18           0           0           0              Ba                  Ba  \n",
       "19           0           0           0              Ba                  Ba  \n",
       "20           0           0           0               O                   C  \n",
       "21           0           0           0               O                   O  \n",
       "22           0           0           0               O                   C  \n",
       "23           0           0           0               O                   O  \n",
       "24           0           0           0               O                   C  \n",
       "25           0           0           0               O                   O  \n",
       "26           0           0           0               O                   C  \n",
       "27           0           0           0               O                   O  \n",
       "28           0           0           0               O                   C  \n",
       "29           0           0           0               O                   O  \n",
       "30           0           0           0               O                   C  \n",
       "31           0           0           0               O                   O  \n",
       "32           0           0           0               O                   C  \n",
       "33           0           0           0               O                   O  \n",
       "34           0           0           0               O                   C  \n",
       "35           0           0           0               O                   O  \n",
       "36           0           0           0               O                   C  \n",
       "37           0           0           0               O                   O  \n",
       "38           0           0           0               O                   C  \n",
       "39           0           0           0               O                   O  \n",
       "40           0           0           0               O                   C  \n",
       "41           0           0           0               O                   O  \n",
       "42           0           0           0               O                   C  \n",
       "43           0           0           0               O                   O  "
      ]
     },
     "execution_count": 6,
     "metadata": {},
     "output_type": "execute_result"
    }
   ],
   "source": [
    "from my_package.textfile2df import nnlist2df\n",
    "import pandas as pd\n",
    "\n",
    "#行の表示数の上限を撤廃\n",
    "pd.set_option('display.max_rows', None)\n",
    "\n",
    "df_nnlist = nnlist2df(POSCAR_nnlist='POSCAR.nnlist')\n",
    "df_nnlist"
   ]
  },
  {
   "cell_type": "markdown",
   "metadata": {
    "tags": []
   },
   "source": [
    "#### df_nnlist.groupby('central atom').count()['neighboring atom']で最も要素数の多いもののcentral atomをクラスタとして得る．\n",
    "#### → クラスタ化されたcentral atomを重複削除する　\n",
    "#### → 新しいcentral atomのリストを得る"
   ]
  },
  {
   "cell_type": "code",
   "execution_count": 24,
   "metadata": {
    "tags": []
   },
   "outputs": [
    {
     "name": "stdout",
     "output_type": "stream",
     "text": [
      "central atom\n",
      "1     4\n",
      "2     4\n",
      "3     4\n",
      "4     4\n",
      "5     1\n",
      "6     1\n",
      "7     1\n",
      "8     1\n",
      "9     2\n",
      "10    2\n",
      "11    2\n",
      "12    2\n",
      "13    2\n",
      "14    2\n",
      "15    2\n",
      "16    2\n",
      "17    2\n",
      "18    2\n",
      "19    2\n",
      "20    2\n",
      "Name: neighboring atom, dtype: int64\n"
     ]
    }
   ],
   "source": [
    "print(df_nnlist.groupby('central atom').count()['neighboring atom'])\n",
    "# これをフィルター化したものがget_elelem_max_num_filter_list"
   ]
  },
  {
   "cell_type": "markdown",
   "metadata": {},
   "source": [
    "#### df_nnlist.groupby('central atom').count()['neighboring atom']で最も要素数の多いもののcentral atomをクラスタとして得る．"
   ]
  },
  {
   "cell_type": "code",
   "execution_count": 19,
   "metadata": {
    "tags": []
   },
   "outputs": [],
   "source": [
    "def get_elem_max_filter(df_nnlist=df_nnlist):\n",
    "    \"\"\"\n",
    "    To get cluster center abs coords from df_coords, Please use this filter.\n",
    "    \n",
    "    Input: df_nnlist \n",
    " -> Output: The max number of element \n",
    "            in neighboring column of df_nnlist, \n",
    "            when df_nnlist groupbyed neighboring column and .count() \n",
    "    \n",
    "    param1: df_nnlist: It should be created by nnlist2df()\n",
    "    \"\"\"\n",
    "    \n",
    "    elem_max_num = df_nnlist.groupby('central atom').count()['neighboring atom'].max()\n",
    "    elem_max_num_filter = df_nnlist.groupby('central atom').count()['neighboring atom'] == elem_max_num\n",
    "    elem_max_num_filter_list = elem_max_num_filter.to_list()\n",
    "    return elem_max_num_filter_list"
   ]
  },
  {
   "cell_type": "code",
   "execution_count": null,
   "metadata": {},
   "outputs": [],
   "source": []
  },
  {
   "cell_type": "markdown",
   "metadata": {},
   "source": [
    "#### メモ：df_coords[elem_max_num_filter_list] によりクラスタ中心の絶対座標を得る"
   ]
  },
  {
   "cell_type": "code",
   "execution_count": 14,
   "metadata": {
    "tags": []
   },
   "outputs": [],
   "source": [
    "# df_coords[elem_max_num_filter_list]"
   ]
  },
  {
   "cell_type": "markdown",
   "metadata": {},
   "source": [
    "#### df_nnlistで入力：central atom → 出力：neighboring atom を返す関数get_right_valueを作成．"
   ]
  },
  {
   "cell_type": "code",
   "execution_count": 46,
   "metadata": {
    "tags": []
   },
   "outputs": [
    {
     "data": {
      "text/plain": [
       "[1, 9, 13, 16]"
      ]
     },
     "execution_count": 46,
     "metadata": {},
     "output_type": "execute_result"
    }
   ],
   "source": [
    "import pandas as pd\n",
    "\n",
    "# 入力値が左側の数値と同じ場合、対応する右側の数値を返す関数\n",
    "def get_right_value(input_value):\n",
    "    \"\"\"\n",
    "    To get all central atoms of a cluster(:neighbors), Input a number of cluster center element number(:central atom)\n",
    "    \n",
    "    Input: central atom column element In df_nnlist\n",
    " -> Output: All neighboring atom column element that Input(:elemnt) match central atom column element\n",
    "    \n",
    "    param1: Input: central atom column element In df_nnlist\n",
    "    \"\"\"\n",
    "    \n",
    "    # 左側の列から対応する行を選択し、右側の数値を取得\n",
    "    # result = df_nnlist[df_nnlist['central atom'] == input_value]['neighboring atom'].values\n",
    "    result = df_nnlist[df_nnlist['central atom'] == input_value]['neighboring atom'].tolist()\n",
    "    return result\n",
    "\n",
    "# 関数をテスト\n",
    "get_right_value(1)"
   ]
  },
  {
   "cell_type": "markdown",
   "metadata": {},
   "source": [
    "#### クラスタ中心のcentral atom(id的な番号)の一覧を得る"
   ]
  },
  {
   "cell_type": "markdown",
   "metadata": {},
   "source": [
    "### クラスタに選ばれなかった残りのcentral atom (≒id)の一覧を得る関数"
   ]
  },
  {
   "cell_type": "code",
   "execution_count": 50,
   "metadata": {
    "tags": []
   },
   "outputs": [],
   "source": [
    "def get_all_non_cluster_atom(df_nnlist=df_nnlist, df_coords=df_coords):\n",
    "    \"\"\"\n",
    "    dependency: get_elem_max_filter(), get_right_value()\n",
    "    \n",
    "    To get non-clusterd central atom list, Use this func.\n",
    "    \n",
    "    \n",
    "    Input: DataFrames\n",
    " -> Output: a list \n",
    "    \n",
    "    param1: df_nnlist=df_nnlist\n",
    "    param2: df_coords=df_coords\n",
    "    \"\"\"\n",
    "    elem_max_num_filter_list = get_elem_max_filter(df_nnlist=df_nnlist)\n",
    "    cluster_central_atom_list = df_coords[elem_max_num_filter_list]['central atom'].tolist()\n",
    "    cluster_all_atom_list_dubled = [get_right_value(elem) for elem in cluster_central_atom_list]\n",
    "    # 2重リストを1重リストにflated\n",
    "    flat_list = [item for sublist in cluster_all_atom_list_dubled for item in sublist]\n",
    "    # flat_listの重複削除\n",
    "    cluster_all_atom_set = set(flat_list)\n",
    "    \n",
    "    # ここからdf_coordsを使う\n",
    "    all_central_atom_set = set(df_coords['central atom'].tolist())\n",
    "    \n",
    "    # 差分を取得\n",
    "    diff_central_atom_list = list(all_central_atom_set.difference(cluster_all_atom_set))\n",
    "    \n",
    "    return diff_central_atom_list\n"
   ]
  },
  {
   "cell_type": "code",
   "execution_count": 49,
   "metadata": {
    "tags": []
   },
   "outputs": [
    {
     "data": {
      "text/plain": [
       "[8, 5, 6, 7]"
      ]
     },
     "execution_count": 49,
     "metadata": {},
     "output_type": "execute_result"
    }
   ],
   "source": [
    "get_all_non_cluster_atom(df_nnlist=df_nnlist, df_coords=df_coords)"
   ]
  },
  {
   "cell_type": "code",
   "execution_count": null,
   "metadata": {},
   "outputs": [],
   "source": []
  },
  {
   "cell_type": "markdown",
   "metadata": {},
   "source": [
    "### diff_central_atom_listをフィルター化する関数"
   ]
  },
  {
   "cell_type": "code",
   "execution_count": 54,
   "metadata": {
    "tags": []
   },
   "outputs": [],
   "source": [
    "# diff_central_atom_filter = df_coords['central atom'].apply(lambda row: row in diff_central_atom_list)\n",
    "# これをget_diff_central_atom_filterに関数化"
   ]
  },
  {
   "cell_type": "code",
   "execution_count": 55,
   "metadata": {
    "tags": []
   },
   "outputs": [],
   "source": [
    "def get_diff_central_atom_filter(df_nnlist=df_nnlist, df_coords=df_coords):\n",
    "    \"\"\"\n",
    "    dependency: get_all_non_cluster_atom()\n",
    "    \n",
    "    To convert list to filter, Use thie func.\n",
    "    \n",
    "    param1: df_nnlist=df_nnlist\n",
    "    param2: df_coords=df_coords\n",
    "    \n",
    "    \"\"\"\n",
    "    \n",
    "    diff_central_atom_list = get_all_non_cluster_atom(df_nnlist=df_nnlist, df_coords=df_coords)\n",
    "    diff_central_atom_filter = df_coords['central atom'].apply(lambda row: row in diff_central_atom_list)\n",
    "    return diff_central_atom_filter"
   ]
  },
  {
   "cell_type": "code",
   "execution_count": null,
   "metadata": {},
   "outputs": [],
   "source": []
  },
  {
   "cell_type": "markdown",
   "metadata": {
    "tags": []
   },
   "source": [
    "### get_right_valueとcluster_central_atom_listを用いて，クラスタに入っている全原子のid(central atom)を得る．"
   ]
  },
  {
   "cell_type": "code",
   "execution_count": 32,
   "metadata": {
    "tags": []
   },
   "outputs": [],
   "source": [
    "# 1重リストに変換\n",
    "flat_list = [item for sublist in cluster_all_atom_list_dubled for item in sublist]\n",
    "# 重複削除\n",
    "cluster_all_atom_set = set(flat_list)\n",
    "# cluster_all_atom_list_fix = list(set(flat_list))\n",
    "# print(cluster_all_atom_list_fix)"
   ]
  },
  {
   "cell_type": "code",
   "execution_count": 33,
   "metadata": {
    "tags": []
   },
   "outputs": [
    {
     "data": {
      "text/plain": [
       "{1, 2, 3, 4, 9, 10, 11, 12, 13, 14, 15, 16, 17, 18, 19, 20}"
      ]
     },
     "execution_count": 33,
     "metadata": {},
     "output_type": "execute_result"
    }
   ],
   "source": [
    "cluster_all_atom_set"
   ]
  },
  {
   "cell_type": "markdown",
   "metadata": {},
   "source": [
    "#### cluster_all_atom_list_fixに含まれないcentral atomを抽出して、さらにdf_coord[]から得る．"
   ]
  },
  {
   "cell_type": "code",
   "execution_count": 34,
   "metadata": {
    "tags": []
   },
   "outputs": [],
   "source": [
    "all_central_atom_set = set(df_coords['central atom'].tolist())"
   ]
  },
  {
   "cell_type": "code",
   "execution_count": 35,
   "metadata": {
    "tags": []
   },
   "outputs": [
    {
     "data": {
      "text/plain": [
       "{1, 2, 3, 4, 5, 6, 7, 8, 9, 10, 11, 12, 13, 14, 15, 16, 17, 18, 19, 20}"
      ]
     },
     "execution_count": 35,
     "metadata": {},
     "output_type": "execute_result"
    }
   ],
   "source": [
    "all_central_atom_set"
   ]
  },
  {
   "cell_type": "code",
   "execution_count": 36,
   "metadata": {
    "tags": []
   },
   "outputs": [
    {
     "data": {
      "text/plain": [
       "[8, 5, 6, 7]"
      ]
     },
     "execution_count": 36,
     "metadata": {},
     "output_type": "execute_result"
    }
   ],
   "source": [
    "# 差分を取得\n",
    "diff_central_atom_list = list(all_central_atom_set.difference(cluster_all_atom_set))\n",
    "diff_central_atom_list"
   ]
  },
  {
   "cell_type": "markdown",
   "metadata": {},
   "source": [
    "### diff_central_atom_listをフィルター化する → df_coords[]に代入する"
   ]
  },
  {
   "cell_type": "markdown",
   "metadata": {},
   "source": [
    "##### ある値がリストに含まれるかを判定する  ->  ex) 20 in diff_central_atom_list"
   ]
  },
  {
   "cell_type": "code",
   "execution_count": 37,
   "metadata": {
    "tags": []
   },
   "outputs": [
    {
     "data": {
      "text/plain": [
       "False"
      ]
     },
     "execution_count": 37,
     "metadata": {},
     "output_type": "execute_result"
    }
   ],
   "source": [
    "20 in diff_central_atom_list"
   ]
  },
  {
   "cell_type": "code",
   "execution_count": 38,
   "metadata": {
    "tags": []
   },
   "outputs": [],
   "source": [
    "diff_central_atom_filter = df_coords['central atom'].apply(lambda row: row in diff_central_atom_list)\n",
    "# print(diff_central_atom_filter)"
   ]
  },
  {
   "cell_type": "code",
   "execution_count": 56,
   "metadata": {
    "tags": []
   },
   "outputs": [
    {
     "data": {
      "text/html": [
       "<div>\n",
       "<style scoped>\n",
       "    .dataframe tbody tr th:only-of-type {\n",
       "        vertical-align: middle;\n",
       "    }\n",
       "\n",
       "    .dataframe tbody tr th {\n",
       "        vertical-align: top;\n",
       "    }\n",
       "\n",
       "    .dataframe thead th {\n",
       "        text-align: right;\n",
       "    }\n",
       "</style>\n",
       "<table border=\"1\" class=\"dataframe\">\n",
       "  <thead>\n",
       "    <tr style=\"text-align: right;\">\n",
       "      <th></th>\n",
       "      <th>central atom</th>\n",
       "      <th>x</th>\n",
       "      <th>y</th>\n",
       "      <th>z</th>\n",
       "      <th>Species</th>\n",
       "    </tr>\n",
       "  </thead>\n",
       "  <tbody>\n",
       "    <tr>\n",
       "      <th>4</th>\n",
       "      <td>5</td>\n",
       "      <td>0.250000000000000</td>\n",
       "      <td>0.416310000000000</td>\n",
       "      <td>0.754900000000000</td>\n",
       "      <td>Ba</td>\n",
       "    </tr>\n",
       "    <tr>\n",
       "      <th>5</th>\n",
       "      <td>6</td>\n",
       "      <td>0.250000000000000</td>\n",
       "      <td>0.083690000000000</td>\n",
       "      <td>0.254900000000000</td>\n",
       "      <td>Ba</td>\n",
       "    </tr>\n",
       "    <tr>\n",
       "      <th>6</th>\n",
       "      <td>7</td>\n",
       "      <td>0.750000000000000</td>\n",
       "      <td>0.583690000000000</td>\n",
       "      <td>0.245100000000000</td>\n",
       "      <td>Ba</td>\n",
       "    </tr>\n",
       "    <tr>\n",
       "      <th>7</th>\n",
       "      <td>8</td>\n",
       "      <td>0.750000000000000</td>\n",
       "      <td>0.916310000000000</td>\n",
       "      <td>0.745100000000000</td>\n",
       "      <td>Ba</td>\n",
       "    </tr>\n",
       "  </tbody>\n",
       "</table>\n",
       "</div>"
      ],
      "text/plain": [
       "   central atom                  x                  y                  z  \\\n",
       "4             5  0.250000000000000  0.416310000000000  0.754900000000000   \n",
       "5             6  0.250000000000000  0.083690000000000  0.254900000000000   \n",
       "6             7  0.750000000000000  0.583690000000000  0.245100000000000   \n",
       "7             8  0.750000000000000  0.916310000000000  0.745100000000000   \n",
       "\n",
       "  Species  \n",
       "4      Ba  \n",
       "5      Ba  \n",
       "6      Ba  \n",
       "7      Ba  "
      ]
     },
     "execution_count": 56,
     "metadata": {},
     "output_type": "execute_result"
    }
   ],
   "source": [
    "# df_coords[diff_central_atom_filter]"
   ]
  },
  {
   "cell_type": "code",
   "execution_count": null,
   "metadata": {},
   "outputs": [],
   "source": []
  },
  {
   "cell_type": "code",
   "execution_count": 59,
   "metadata": {
    "tags": []
   },
   "outputs": [
    {
     "data": {
      "text/html": [
       "<div>\n",
       "<style scoped>\n",
       "    .dataframe tbody tr th:only-of-type {\n",
       "        vertical-align: middle;\n",
       "    }\n",
       "\n",
       "    .dataframe tbody tr th {\n",
       "        vertical-align: top;\n",
       "    }\n",
       "\n",
       "    .dataframe thead th {\n",
       "        text-align: right;\n",
       "    }\n",
       "</style>\n",
       "<table border=\"1\" class=\"dataframe\">\n",
       "  <thead>\n",
       "    <tr style=\"text-align: right;\">\n",
       "      <th></th>\n",
       "      <th>central atom</th>\n",
       "      <th>x</th>\n",
       "      <th>y</th>\n",
       "      <th>z</th>\n",
       "      <th>Species</th>\n",
       "    </tr>\n",
       "  </thead>\n",
       "  <tbody>\n",
       "    <tr>\n",
       "      <th>4</th>\n",
       "      <td>5</td>\n",
       "      <td>0.250000000000000</td>\n",
       "      <td>0.416310000000000</td>\n",
       "      <td>0.754900000000000</td>\n",
       "      <td>Ba</td>\n",
       "    </tr>\n",
       "    <tr>\n",
       "      <th>5</th>\n",
       "      <td>6</td>\n",
       "      <td>0.250000000000000</td>\n",
       "      <td>0.083690000000000</td>\n",
       "      <td>0.254900000000000</td>\n",
       "      <td>Ba</td>\n",
       "    </tr>\n",
       "    <tr>\n",
       "      <th>6</th>\n",
       "      <td>7</td>\n",
       "      <td>0.750000000000000</td>\n",
       "      <td>0.583690000000000</td>\n",
       "      <td>0.245100000000000</td>\n",
       "      <td>Ba</td>\n",
       "    </tr>\n",
       "    <tr>\n",
       "      <th>7</th>\n",
       "      <td>8</td>\n",
       "      <td>0.750000000000000</td>\n",
       "      <td>0.916310000000000</td>\n",
       "      <td>0.745100000000000</td>\n",
       "      <td>Ba</td>\n",
       "    </tr>\n",
       "  </tbody>\n",
       "</table>\n",
       "</div>"
      ],
      "text/plain": [
       "   central atom                  x                  y                  z  \\\n",
       "4             5  0.250000000000000  0.416310000000000  0.754900000000000   \n",
       "5             6  0.250000000000000  0.083690000000000  0.254900000000000   \n",
       "6             7  0.750000000000000  0.583690000000000  0.245100000000000   \n",
       "7             8  0.750000000000000  0.916310000000000  0.745100000000000   \n",
       "\n",
       "  Species  \n",
       "4      Ba  \n",
       "5      Ba  \n",
       "6      Ba  \n",
       "7      Ba  "
      ]
     },
     "execution_count": 59,
     "metadata": {},
     "output_type": "execute_result"
    }
   ],
   "source": [
    "df_coords[get_diff_central_atom_filter(df_nnlist=df_nnlist, df_coords=df_coords)]"
   ]
  },
  {
   "cell_type": "code",
   "execution_count": null,
   "metadata": {},
   "outputs": [],
   "source": []
  },
  {
   "cell_type": "code",
   "execution_count": null,
   "metadata": {},
   "outputs": [],
   "source": []
  },
  {
   "cell_type": "markdown",
   "metadata": {},
   "source": [
    "<!-- ### 2つのフィルターをorで結合する関数 -->"
   ]
  },
  {
   "cell_type": "code",
   "execution_count": null,
   "metadata": {},
   "outputs": [],
   "source": [
    "# def get_union_filter(filter1=diff_central_atom_filter, filter2=):\n",
    "\n",
    "\n",
    "#     return central_atom_filter_fix"
   ]
  },
  {
   "cell_type": "code",
   "execution_count": null,
   "metadata": {},
   "outputs": [],
   "source": []
  },
  {
   "cell_type": "code",
   "execution_count": null,
   "metadata": {},
   "outputs": [],
   "source": []
  },
  {
   "cell_type": "code",
   "execution_count": null,
   "metadata": {},
   "outputs": [],
   "source": []
  },
  {
   "cell_type": "markdown",
   "metadata": {},
   "source": [
    "### df_coords[]で、クラスタの中心の絶対座標のフィルターと重複削除された残りの絶対座標のフィルターを結合してフィルターする"
   ]
  },
  {
   "cell_type": "markdown",
   "metadata": {},
   "source": [
    "#### 過不足のないcentral atomのfilterが完成"
   ]
  },
  {
   "cell_type": "code",
   "execution_count": 67,
   "metadata": {
    "tags": []
   },
   "outputs": [],
   "source": [
    "# diff_central_atom_filter"
   ]
  },
  {
   "cell_type": "code",
   "execution_count": 68,
   "metadata": {
    "tags": []
   },
   "outputs": [],
   "source": [
    "# get_elem_max_filter(df_nnlist=df_nnlist)"
   ]
  },
  {
   "cell_type": "code",
   "execution_count": 72,
   "metadata": {
    "tags": []
   },
   "outputs": [
    {
     "data": {
      "text/plain": [
       "0      True\n",
       "1      True\n",
       "2      True\n",
       "3      True\n",
       "4      True\n",
       "5      True\n",
       "6      True\n",
       "7      True\n",
       "8     False\n",
       "9     False\n",
       "10    False\n",
       "11    False\n",
       "12    False\n",
       "13    False\n",
       "14    False\n",
       "15    False\n",
       "16    False\n",
       "17    False\n",
       "18    False\n",
       "19    False\n",
       "Name: central atom, dtype: bool"
      ]
     },
     "execution_count": 72,
     "metadata": {},
     "output_type": "execute_result"
    }
   ],
   "source": [
    "central_atom_filter_fix = diff_central_atom_filter | get_elem_max_filter(df_nnlist=df_nnlist)\n",
    "central_atom_filter_fix"
   ]
  },
  {
   "cell_type": "code",
   "execution_count": null,
   "metadata": {},
   "outputs": [],
   "source": []
  },
  {
   "cell_type": "markdown",
   "metadata": {},
   "source": [
    "#### クラスタ後の新しい絶対座標を得る"
   ]
  },
  {
   "cell_type": "code",
   "execution_count": 73,
   "metadata": {
    "tags": []
   },
   "outputs": [
    {
     "data": {
      "text/html": [
       "<div>\n",
       "<style scoped>\n",
       "    .dataframe tbody tr th:only-of-type {\n",
       "        vertical-align: middle;\n",
       "    }\n",
       "\n",
       "    .dataframe tbody tr th {\n",
       "        vertical-align: top;\n",
       "    }\n",
       "\n",
       "    .dataframe thead th {\n",
       "        text-align: right;\n",
       "    }\n",
       "</style>\n",
       "<table border=\"1\" class=\"dataframe\">\n",
       "  <thead>\n",
       "    <tr style=\"text-align: right;\">\n",
       "      <th></th>\n",
       "      <th>central atom</th>\n",
       "      <th>x</th>\n",
       "      <th>y</th>\n",
       "      <th>z</th>\n",
       "      <th>Species</th>\n",
       "    </tr>\n",
       "  </thead>\n",
       "  <tbody>\n",
       "    <tr>\n",
       "      <th>0</th>\n",
       "      <td>1</td>\n",
       "      <td>0.250000000000000</td>\n",
       "      <td>0.757000000000000</td>\n",
       "      <td>0.919000000000000</td>\n",
       "      <td>C</td>\n",
       "    </tr>\n",
       "    <tr>\n",
       "      <th>1</th>\n",
       "      <td>2</td>\n",
       "      <td>0.250000000000000</td>\n",
       "      <td>0.743000000000000</td>\n",
       "      <td>0.419000000000000</td>\n",
       "      <td>C</td>\n",
       "    </tr>\n",
       "    <tr>\n",
       "      <th>2</th>\n",
       "      <td>3</td>\n",
       "      <td>0.750000000000000</td>\n",
       "      <td>0.243000000000000</td>\n",
       "      <td>0.081000000000000</td>\n",
       "      <td>C</td>\n",
       "    </tr>\n",
       "    <tr>\n",
       "      <th>3</th>\n",
       "      <td>4</td>\n",
       "      <td>0.750000000000000</td>\n",
       "      <td>0.257000000000000</td>\n",
       "      <td>0.581000000000000</td>\n",
       "      <td>C</td>\n",
       "    </tr>\n",
       "    <tr>\n",
       "      <th>4</th>\n",
       "      <td>5</td>\n",
       "      <td>0.250000000000000</td>\n",
       "      <td>0.416310000000000</td>\n",
       "      <td>0.754900000000000</td>\n",
       "      <td>Ba</td>\n",
       "    </tr>\n",
       "    <tr>\n",
       "      <th>5</th>\n",
       "      <td>6</td>\n",
       "      <td>0.250000000000000</td>\n",
       "      <td>0.083690000000000</td>\n",
       "      <td>0.254900000000000</td>\n",
       "      <td>Ba</td>\n",
       "    </tr>\n",
       "    <tr>\n",
       "      <th>6</th>\n",
       "      <td>7</td>\n",
       "      <td>0.750000000000000</td>\n",
       "      <td>0.583690000000000</td>\n",
       "      <td>0.245100000000000</td>\n",
       "      <td>Ba</td>\n",
       "    </tr>\n",
       "    <tr>\n",
       "      <th>7</th>\n",
       "      <td>8</td>\n",
       "      <td>0.750000000000000</td>\n",
       "      <td>0.916310000000000</td>\n",
       "      <td>0.745100000000000</td>\n",
       "      <td>Ba</td>\n",
       "    </tr>\n",
       "  </tbody>\n",
       "</table>\n",
       "</div>"
      ],
      "text/plain": [
       "   central atom                  x                  y                  z  \\\n",
       "0             1  0.250000000000000  0.757000000000000  0.919000000000000   \n",
       "1             2  0.250000000000000  0.743000000000000  0.419000000000000   \n",
       "2             3  0.750000000000000  0.243000000000000  0.081000000000000   \n",
       "3             4  0.750000000000000  0.257000000000000  0.581000000000000   \n",
       "4             5  0.250000000000000  0.416310000000000  0.754900000000000   \n",
       "5             6  0.250000000000000  0.083690000000000  0.254900000000000   \n",
       "6             7  0.750000000000000  0.583690000000000  0.245100000000000   \n",
       "7             8  0.750000000000000  0.916310000000000  0.745100000000000   \n",
       "\n",
       "  Species  \n",
       "0       C  \n",
       "1       C  \n",
       "2       C  \n",
       "3       C  \n",
       "4      Ba  \n",
       "5      Ba  \n",
       "6      Ba  \n",
       "7      Ba  "
      ]
     },
     "execution_count": 73,
     "metadata": {},
     "output_type": "execute_result"
    }
   ],
   "source": [
    "df_coords_abs_center = df_coords[central_atom_filter_fix]\n",
    "df_coords_abs_center"
   ]
  },
  {
   "cell_type": "markdown",
   "metadata": {},
   "source": [
    "#### クラスタ後の新しい絶対座標を文字列→数値に変換 する関数"
   ]
  },
  {
   "cell_type": "code",
   "execution_count": 74,
   "metadata": {
    "tags": []
   },
   "outputs": [],
   "source": [
    "def df_elem_str2num(df_coords_abs_center=df_coords_abs_center):\n",
    "    \n",
    "    # 文字列を数値化する\n",
    "    df_coords_abs_center['x'] = pd.to_numeric(df_coords_abs_center['x'], errors='coerce')\n",
    "    df_coords_abs_center['y'] = pd.to_numeric(df_coords_abs_center['y'], errors='coerce')\n",
    "    df_coords_abs_center['z'] = pd.to_numeric(df_coords_abs_center['z'], errors='coerce')\n",
    "    \n",
    "    return df_coords_abs_center"
   ]
  },
  {
   "cell_type": "code",
   "execution_count": 76,
   "metadata": {
    "tags": []
   },
   "outputs": [
    {
     "name": "stderr",
     "output_type": "stream",
     "text": [
      "/tmp/ipykernel_25313/2352175167.py:4: SettingWithCopyWarning: \n",
      "A value is trying to be set on a copy of a slice from a DataFrame.\n",
      "Try using .loc[row_indexer,col_indexer] = value instead\n",
      "\n",
      "See the caveats in the documentation: https://pandas.pydata.org/pandas-docs/stable/user_guide/indexing.html#returning-a-view-versus-a-copy\n",
      "  df_coords_abs_center['x'] = pd.to_numeric(df_coords_abs_center['x'], errors='coerce')\n",
      "/tmp/ipykernel_25313/2352175167.py:5: SettingWithCopyWarning: \n",
      "A value is trying to be set on a copy of a slice from a DataFrame.\n",
      "Try using .loc[row_indexer,col_indexer] = value instead\n",
      "\n",
      "See the caveats in the documentation: https://pandas.pydata.org/pandas-docs/stable/user_guide/indexing.html#returning-a-view-versus-a-copy\n",
      "  df_coords_abs_center['y'] = pd.to_numeric(df_coords_abs_center['y'], errors='coerce')\n",
      "/tmp/ipykernel_25313/2352175167.py:6: SettingWithCopyWarning: \n",
      "A value is trying to be set on a copy of a slice from a DataFrame.\n",
      "Try using .loc[row_indexer,col_indexer] = value instead\n",
      "\n",
      "See the caveats in the documentation: https://pandas.pydata.org/pandas-docs/stable/user_guide/indexing.html#returning-a-view-versus-a-copy\n",
      "  df_coords_abs_center['z'] = pd.to_numeric(df_coords_abs_center['z'], errors='coerce')\n"
     ]
    }
   ],
   "source": [
    "df_coords_abs_center = df_elem_str2num(df_coords_abs_center=df_coords_abs_center)"
   ]
  },
  {
   "cell_type": "code",
   "execution_count": 78,
   "metadata": {
    "tags": []
   },
   "outputs": [
    {
     "data": {
      "text/html": [
       "<div>\n",
       "<style scoped>\n",
       "    .dataframe tbody tr th:only-of-type {\n",
       "        vertical-align: middle;\n",
       "    }\n",
       "\n",
       "    .dataframe tbody tr th {\n",
       "        vertical-align: top;\n",
       "    }\n",
       "\n",
       "    .dataframe thead th {\n",
       "        text-align: right;\n",
       "    }\n",
       "</style>\n",
       "<table border=\"1\" class=\"dataframe\">\n",
       "  <thead>\n",
       "    <tr style=\"text-align: right;\">\n",
       "      <th></th>\n",
       "      <th>central atom</th>\n",
       "      <th>x</th>\n",
       "      <th>y</th>\n",
       "      <th>z</th>\n",
       "      <th>Species</th>\n",
       "    </tr>\n",
       "  </thead>\n",
       "  <tbody>\n",
       "    <tr>\n",
       "      <th>0</th>\n",
       "      <td>1</td>\n",
       "      <td>0.250000</td>\n",
       "      <td>0.757000</td>\n",
       "      <td>0.919000</td>\n",
       "      <td>C</td>\n",
       "    </tr>\n",
       "    <tr>\n",
       "      <th>1</th>\n",
       "      <td>2</td>\n",
       "      <td>0.250000</td>\n",
       "      <td>0.743000</td>\n",
       "      <td>0.419000</td>\n",
       "      <td>C</td>\n",
       "    </tr>\n",
       "    <tr>\n",
       "      <th>2</th>\n",
       "      <td>3</td>\n",
       "      <td>0.750000</td>\n",
       "      <td>0.243000</td>\n",
       "      <td>0.081000</td>\n",
       "      <td>C</td>\n",
       "    </tr>\n",
       "    <tr>\n",
       "      <th>3</th>\n",
       "      <td>4</td>\n",
       "      <td>0.750000</td>\n",
       "      <td>0.257000</td>\n",
       "      <td>0.581000</td>\n",
       "      <td>C</td>\n",
       "    </tr>\n",
       "    <tr>\n",
       "      <th>4</th>\n",
       "      <td>5</td>\n",
       "      <td>0.250000</td>\n",
       "      <td>0.416310</td>\n",
       "      <td>0.754900</td>\n",
       "      <td>Ba</td>\n",
       "    </tr>\n",
       "    <tr>\n",
       "      <th>5</th>\n",
       "      <td>6</td>\n",
       "      <td>0.250000</td>\n",
       "      <td>0.083690</td>\n",
       "      <td>0.254900</td>\n",
       "      <td>Ba</td>\n",
       "    </tr>\n",
       "    <tr>\n",
       "      <th>6</th>\n",
       "      <td>7</td>\n",
       "      <td>0.750000</td>\n",
       "      <td>0.583690</td>\n",
       "      <td>0.245100</td>\n",
       "      <td>Ba</td>\n",
       "    </tr>\n",
       "    <tr>\n",
       "      <th>7</th>\n",
       "      <td>8</td>\n",
       "      <td>0.750000</td>\n",
       "      <td>0.916310</td>\n",
       "      <td>0.745100</td>\n",
       "      <td>Ba</td>\n",
       "    </tr>\n",
       "  </tbody>\n",
       "</table>\n",
       "</div>"
      ],
      "text/plain": [
       "   central atom        x        y        z Species\n",
       "0             1 0.250000 0.757000 0.919000       C\n",
       "1             2 0.250000 0.743000 0.419000       C\n",
       "2             3 0.750000 0.243000 0.081000       C\n",
       "3             4 0.750000 0.257000 0.581000       C\n",
       "4             5 0.250000 0.416310 0.754900      Ba\n",
       "5             6 0.250000 0.083690 0.254900      Ba\n",
       "6             7 0.750000 0.583690 0.245100      Ba\n",
       "7             8 0.750000 0.916310 0.745100      Ba"
      ]
     },
     "execution_count": 78,
     "metadata": {},
     "output_type": "execute_result"
    }
   ],
   "source": [
    "# 数値化したクラスタ後の絶対座標\n",
    "df_coords_abs_center"
   ]
  },
  {
   "cell_type": "code",
   "execution_count": null,
   "metadata": {},
   "outputs": [],
   "source": []
  },
  {
   "cell_type": "markdown",
   "metadata": {},
   "source": [
    "#### クラスタの相対中心座標を計算"
   ]
  },
  {
   "cell_type": "code",
   "execution_count": 79,
   "metadata": {
    "tags": []
   },
   "outputs": [
    {
     "name": "stderr",
     "output_type": "stream",
     "text": [
      "/tmp/ipykernel_25313/3839055567.py:1: FutureWarning: The default value of numeric_only in DataFrameGroupBy.mean is deprecated. In a future version, numeric_only will default to False. Either specify numeric_only or select only columns which should be valid for the function.\n",
      "  df_nnlist_grouped = df_nnlist.groupby('central atom').mean()\n"
     ]
    }
   ],
   "source": [
    "df_nnlist_grouped = df_nnlist.groupby('central atom').mean()\n",
    "# central atomカラムでgroupby.mean()した後、index列(central atom)をカラムにする   \n",
    "df_nnlist_grouped = df_nnlist_grouped.reset_index()   "
   ]
  },
  {
   "cell_type": "code",
   "execution_count": 80,
   "metadata": {
    "tags": []
   },
   "outputs": [
    {
     "data": {
      "text/html": [
       "<div>\n",
       "<style scoped>\n",
       "    .dataframe tbody tr th:only-of-type {\n",
       "        vertical-align: middle;\n",
       "    }\n",
       "\n",
       "    .dataframe tbody tr th {\n",
       "        vertical-align: top;\n",
       "    }\n",
       "\n",
       "    .dataframe thead th {\n",
       "        text-align: right;\n",
       "    }\n",
       "</style>\n",
       "<table border=\"1\" class=\"dataframe\">\n",
       "  <thead>\n",
       "    <tr style=\"text-align: right;\">\n",
       "      <th></th>\n",
       "      <th>central atom</th>\n",
       "      <th>neighboring atom</th>\n",
       "      <th>distance</th>\n",
       "      <th>X</th>\n",
       "      <th>Y</th>\n",
       "      <th>Z</th>\n",
       "      <th>unitcell_x</th>\n",
       "      <th>unitcell_y</th>\n",
       "      <th>unitcell_z</th>\n",
       "    </tr>\n",
       "  </thead>\n",
       "  <tbody>\n",
       "    <tr>\n",
       "      <th>0</th>\n",
       "      <td>1</td>\n",
       "      <td>9.750000</td>\n",
       "      <td>0.965207</td>\n",
       "      <td>0.000000</td>\n",
       "      <td>-0.004670</td>\n",
       "      <td>-0.004500</td>\n",
       "      <td>0.000000</td>\n",
       "      <td>0.000000</td>\n",
       "      <td>0.000000</td>\n",
       "    </tr>\n",
       "    <tr>\n",
       "      <th>1</th>\n",
       "      <td>2</td>\n",
       "      <td>10.750000</td>\n",
       "      <td>0.965207</td>\n",
       "      <td>0.000000</td>\n",
       "      <td>0.004670</td>\n",
       "      <td>-0.004500</td>\n",
       "      <td>0.000000</td>\n",
       "      <td>0.000000</td>\n",
       "      <td>0.000000</td>\n",
       "    </tr>\n",
       "    <tr>\n",
       "      <th>2</th>\n",
       "      <td>3</td>\n",
       "      <td>12.000000</td>\n",
       "      <td>0.965207</td>\n",
       "      <td>0.000000</td>\n",
       "      <td>0.004670</td>\n",
       "      <td>0.004500</td>\n",
       "      <td>0.000000</td>\n",
       "      <td>0.000000</td>\n",
       "      <td>0.000000</td>\n",
       "    </tr>\n",
       "    <tr>\n",
       "      <th>3</th>\n",
       "      <td>4</td>\n",
       "      <td>13.500000</td>\n",
       "      <td>0.965207</td>\n",
       "      <td>0.000000</td>\n",
       "      <td>-0.004670</td>\n",
       "      <td>0.004500</td>\n",
       "      <td>0.000000</td>\n",
       "      <td>0.000000</td>\n",
       "      <td>0.000000</td>\n",
       "    </tr>\n",
       "    <tr>\n",
       "      <th>4</th>\n",
       "      <td>5</td>\n",
       "      <td>5.000000</td>\n",
       "      <td>0.000000</td>\n",
       "      <td>0.000000</td>\n",
       "      <td>0.000000</td>\n",
       "      <td>0.000000</td>\n",
       "      <td>0.000000</td>\n",
       "      <td>0.000000</td>\n",
       "      <td>0.000000</td>\n",
       "    </tr>\n",
       "    <tr>\n",
       "      <th>5</th>\n",
       "      <td>6</td>\n",
       "      <td>6.000000</td>\n",
       "      <td>0.000000</td>\n",
       "      <td>0.000000</td>\n",
       "      <td>0.000000</td>\n",
       "      <td>0.000000</td>\n",
       "      <td>0.000000</td>\n",
       "      <td>0.000000</td>\n",
       "      <td>0.000000</td>\n",
       "    </tr>\n",
       "    <tr>\n",
       "      <th>6</th>\n",
       "      <td>7</td>\n",
       "      <td>7.000000</td>\n",
       "      <td>0.000000</td>\n",
       "      <td>0.000000</td>\n",
       "      <td>0.000000</td>\n",
       "      <td>0.000000</td>\n",
       "      <td>0.000000</td>\n",
       "      <td>0.000000</td>\n",
       "      <td>0.000000</td>\n",
       "    </tr>\n",
       "    <tr>\n",
       "      <th>7</th>\n",
       "      <td>8</td>\n",
       "      <td>8.000000</td>\n",
       "      <td>0.000000</td>\n",
       "      <td>0.000000</td>\n",
       "      <td>0.000000</td>\n",
       "      <td>0.000000</td>\n",
       "      <td>0.000000</td>\n",
       "      <td>0.000000</td>\n",
       "      <td>0.000000</td>\n",
       "    </tr>\n",
       "  </tbody>\n",
       "</table>\n",
       "</div>"
      ],
      "text/plain": [
       "   central atom  neighboring atom  distance        X         Y         Z  \\\n",
       "0             1          9.750000  0.965207 0.000000 -0.004670 -0.004500   \n",
       "1             2         10.750000  0.965207 0.000000  0.004670 -0.004500   \n",
       "2             3         12.000000  0.965207 0.000000  0.004670  0.004500   \n",
       "3             4         13.500000  0.965207 0.000000 -0.004670  0.004500   \n",
       "4             5          5.000000  0.000000 0.000000  0.000000  0.000000   \n",
       "5             6          6.000000  0.000000 0.000000  0.000000  0.000000   \n",
       "6             7          7.000000  0.000000 0.000000  0.000000  0.000000   \n",
       "7             8          8.000000  0.000000 0.000000  0.000000  0.000000   \n",
       "\n",
       "   unitcell_x  unitcell_y  unitcell_z  \n",
       "0    0.000000    0.000000    0.000000  \n",
       "1    0.000000    0.000000    0.000000  \n",
       "2    0.000000    0.000000    0.000000  \n",
       "3    0.000000    0.000000    0.000000  \n",
       "4    0.000000    0.000000    0.000000  \n",
       "5    0.000000    0.000000    0.000000  \n",
       "6    0.000000    0.000000    0.000000  \n",
       "7    0.000000    0.000000    0.000000  "
      ]
     },
     "execution_count": 80,
     "metadata": {},
     "output_type": "execute_result"
    }
   ],
   "source": [
    "df_cluster_relative_center = df_nnlist_grouped[central_atom_filter_fix]\n",
    "df_cluster_relative_center"
   ]
  },
  {
   "cell_type": "code",
   "execution_count": null,
   "metadata": {},
   "outputs": [],
   "source": []
  },
  {
   "cell_type": "markdown",
   "metadata": {},
   "source": [
    "### 絶対座標 + 相対座標の計算"
   ]
  },
  {
   "cell_type": "code",
   "execution_count": 81,
   "metadata": {
    "tags": []
   },
   "outputs": [],
   "source": [
    "def get_clusterd_coords(df_abs=df_coords_abs_center, df_relative=df_cluster_relative_center):\n",
    "    df_coords_x = df_abs['x'] + df_relative['X']\n",
    "    df_coords_y = df_abs['y'] + df_relative['Y']\n",
    "    df_coords_z = df_abs['z'] + df_relative['Z']\n",
    "    df_coords_species = df_abs['Species']\n",
    "\n",
    "    # カラム名を指定してデータフレームを作成\n",
    "    df_coords_fix = pd.DataFrame({\n",
    "        'X': df_coords_x,\n",
    "        'Y': df_coords_y,\n",
    "        'Z': df_coords_z,\n",
    "        'Species': df_coords_species,\n",
    "    })\n",
    "\n",
    "    return df_coords_fix"
   ]
  },
  {
   "cell_type": "code",
   "execution_count": 82,
   "metadata": {
    "tags": []
   },
   "outputs": [
    {
     "data": {
      "text/html": [
       "<div>\n",
       "<style scoped>\n",
       "    .dataframe tbody tr th:only-of-type {\n",
       "        vertical-align: middle;\n",
       "    }\n",
       "\n",
       "    .dataframe tbody tr th {\n",
       "        vertical-align: top;\n",
       "    }\n",
       "\n",
       "    .dataframe thead th {\n",
       "        text-align: right;\n",
       "    }\n",
       "</style>\n",
       "<table border=\"1\" class=\"dataframe\">\n",
       "  <thead>\n",
       "    <tr style=\"text-align: right;\">\n",
       "      <th></th>\n",
       "      <th>X</th>\n",
       "      <th>Y</th>\n",
       "      <th>Z</th>\n",
       "      <th>Species</th>\n",
       "    </tr>\n",
       "  </thead>\n",
       "  <tbody>\n",
       "    <tr>\n",
       "      <th>0</th>\n",
       "      <td>0.250000</td>\n",
       "      <td>0.752330</td>\n",
       "      <td>0.914500</td>\n",
       "      <td>C</td>\n",
       "    </tr>\n",
       "    <tr>\n",
       "      <th>1</th>\n",
       "      <td>0.250000</td>\n",
       "      <td>0.747670</td>\n",
       "      <td>0.414500</td>\n",
       "      <td>C</td>\n",
       "    </tr>\n",
       "    <tr>\n",
       "      <th>2</th>\n",
       "      <td>0.750000</td>\n",
       "      <td>0.247670</td>\n",
       "      <td>0.085500</td>\n",
       "      <td>C</td>\n",
       "    </tr>\n",
       "    <tr>\n",
       "      <th>3</th>\n",
       "      <td>0.750000</td>\n",
       "      <td>0.252330</td>\n",
       "      <td>0.585500</td>\n",
       "      <td>C</td>\n",
       "    </tr>\n",
       "    <tr>\n",
       "      <th>4</th>\n",
       "      <td>0.250000</td>\n",
       "      <td>0.416310</td>\n",
       "      <td>0.754900</td>\n",
       "      <td>Ba</td>\n",
       "    </tr>\n",
       "    <tr>\n",
       "      <th>5</th>\n",
       "      <td>0.250000</td>\n",
       "      <td>0.083690</td>\n",
       "      <td>0.254900</td>\n",
       "      <td>Ba</td>\n",
       "    </tr>\n",
       "    <tr>\n",
       "      <th>6</th>\n",
       "      <td>0.750000</td>\n",
       "      <td>0.583690</td>\n",
       "      <td>0.245100</td>\n",
       "      <td>Ba</td>\n",
       "    </tr>\n",
       "    <tr>\n",
       "      <th>7</th>\n",
       "      <td>0.750000</td>\n",
       "      <td>0.916310</td>\n",
       "      <td>0.745100</td>\n",
       "      <td>Ba</td>\n",
       "    </tr>\n",
       "  </tbody>\n",
       "</table>\n",
       "</div>"
      ],
      "text/plain": [
       "         X        Y        Z Species\n",
       "0 0.250000 0.752330 0.914500       C\n",
       "1 0.250000 0.747670 0.414500       C\n",
       "2 0.750000 0.247670 0.085500       C\n",
       "3 0.750000 0.252330 0.585500       C\n",
       "4 0.250000 0.416310 0.754900      Ba\n",
       "5 0.250000 0.083690 0.254900      Ba\n",
       "6 0.750000 0.583690 0.245100      Ba\n",
       "7 0.750000 0.916310 0.745100      Ba"
      ]
     },
     "execution_count": 82,
     "metadata": {},
     "output_type": "execute_result"
    }
   ],
   "source": [
    "df_coords_fix = get_clusterd_coords(df_abs=df_coords_abs_center, df_relative=df_cluster_relative_center)\n",
    "df_coords_fix"
   ]
  },
  {
   "cell_type": "code",
   "execution_count": 41,
   "metadata": {
    "tags": []
   },
   "outputs": [],
   "source": [
    "### 元のPOSCARファイルから5行目までを抽出して、新しいPOSCARファイルに書き込む関数"
   ]
  },
  {
   "cell_type": "code",
   "execution_count": 83,
   "metadata": {
    "tags": []
   },
   "outputs": [],
   "source": [
    "def df2poscar(df=df_coords_fix, original_file=\"./POSCAR\", output_file=\"gen_data/POSCAR\"):\n",
    "    \"\"\"\n",
    "    Writing the DataFrame(:df_coords_fix) to a POSCAR file.\n",
    "    param1: DataFrame that has 'X', 'Y', 'Z' columns about coords.\n",
    "    param2: original POSCAR file\n",
    "    param3: generated POSCAR file\n",
    "    \"\"\"\n",
    "    \n",
    "    # df_coords_fixを文字列に変換\n",
    "    def df2str(df):\n",
    "        df_coords_fix_str = df[['X', 'Y', 'Z']].to_string(header=False, index=False, index_names=False)\n",
    "        return df_coords_fix_str\n",
    "    \n",
    "    # df_coords_fixから元素種を文字列として抽出する関数\n",
    "    def return_species(df):\n",
    "        speies_0 = df['Species'].unique()[0]\n",
    "        speies_1 = df['Species'].unique()[1]\n",
    "        num_C = len(df[df['Species'] == speies_0])\n",
    "        num_Ba = len(df[df['Species'] == speies_1])\n",
    "\n",
    "        species_line = f\"\"\"   {speies_0}   {speies_1}\n",
    "       {num_C}   {num_Ba}\"\"\"\n",
    "\n",
    "       #  species_line = f\"\"\"   {speies_0}\n",
    "       # {num_C}   \"\"\"\n",
    "        \n",
    "        return species_line\n",
    "\n",
    "    \n",
    "    # 元のPOSCARファイルの5行目までを抽出し，新しいファイルに書き込む\n",
    "    def wirte_header2poscar():\n",
    "        # 最初の5行を抽出\n",
    "        with open(original_file, 'r') as infile:\n",
    "            lines = infile.readlines()[:5]\n",
    "        # 新しいPOSCARファイルに書き込む\n",
    "        with open(output_file, 'w') as outfile:\n",
    "            outfile.writelines(lines)\n",
    "    \n",
    "    \n",
    "    # 新しいPOSCARファイルに書き込んでいく\n",
    "    def write_species2poscar():\n",
    "        with open(output_file, 'a') as file:\n",
    "            # すでに存在するテキストファイルに元素種を追記\n",
    "            file.write(return_species(df) + '\\n')\n",
    "            # 元素種まで書かれたファイルにDirectという文字をを追記\n",
    "            file.write('Direct\\n' )\n",
    "            # 直交座標を追記\n",
    "            file.write(df2str(df))\n",
    "\n",
    "            \n",
    "    # 関数をcall\n",
    "    df2str(df)\n",
    "    wirte_header2poscar()\n",
    "    write_species2poscar()\n",
    "    \n",
    "    print(f\"{output_file} にクラスタ化後の内容が書き込まれました。\")"
   ]
  },
  {
   "cell_type": "code",
   "execution_count": 84,
   "metadata": {
    "tags": []
   },
   "outputs": [
    {
     "name": "stdout",
     "output_type": "stream",
     "text": [
      "gen_data/POSCAR にクラスタ化後の内容が書き込まれました。\n"
     ]
    }
   ],
   "source": [
    "df2poscar()"
   ]
  },
  {
   "cell_type": "markdown",
   "metadata": {
    "tags": []
   },
   "source": [
    "#### 編集後のposcarファイルをASEで可視化"
   ]
  },
  {
   "cell_type": "code",
   "execution_count": 92,
   "metadata": {
    "tags": []
   },
   "outputs": [
    {
     "data": {
      "application/vnd.jupyter.widget-view+json": {
       "model_id": "0dc7881d94774f0599d9c5c6500273d1",
       "version_major": 2,
       "version_minor": 0
      },
      "text/plain": [
       "HBox(children=(NGLWidget(), VBox(children=(Dropdown(description='Show', options=('All', 'C', 'Ba'), value='All…"
      ]
     },
     "execution_count": 92,
     "metadata": {},
     "output_type": "execute_result"
    }
   ],
   "source": [
    "from ase.io import read, write\n",
    "\n",
    "output_file=\"gen_data/POSCAR\"\n",
    "# POSCARファイルの読み込み\n",
    "atoms = read(output_file)\n",
    "\n",
    "# POSCARファイルの描画\n",
    "from ase.visualize import view, ngl\n",
    "ngl.view_ngl(atoms)"
   ]
  },
  {
   "cell_type": "code",
   "execution_count": 93,
   "metadata": {
    "tags": []
   },
   "outputs": [
    {
     "data": {
      "application/vnd.jupyter.widget-view+json": {
       "model_id": "67bde6d8a4764b6a8cc588778cf342fa",
       "version_major": 2,
       "version_minor": 0
      },
      "text/plain": [
       "HBox(children=(NGLWidget(), VBox(children=(Dropdown(description='Show', options=('All', 'C', 'O', 'Ba'), value…"
      ]
     },
     "execution_count": 93,
     "metadata": {},
     "output_type": "execute_result"
    }
   ],
   "source": [
    "from ase.io import read, write\n",
    "# POSCARファイルの読み込み\n",
    "atoms = read('POSCAR')\n",
    "\n",
    "# POSCARファイルの描画\n",
    "from ase.visualize import view, ngl\n",
    "ngl.view_ngl(atoms)"
   ]
  },
  {
   "cell_type": "markdown",
   "metadata": {},
   "source": [
    "#### 編集後のposcarファイルをVESTAで可視化"
   ]
  },
  {
   "cell_type": "code",
   "execution_count": 91,
   "metadata": {},
   "outputs": [
    {
     "name": "stderr",
     "output_type": "stream",
     "text": [
      "\n",
      "(VESTA-gui:26557): Gtk-WARNING **: 15:54:30.448: Negative content width -2 (allocation 32, extents 17x17) while allocating gadget (node button, owner GtkButton)\n",
      "\n",
      "(VESTA-gui:26557): Gtk-WARNING **: 15:54:30.448: Negative content width -2 (allocation 32, extents 17x17) while allocating gadget (node button, owner GtkButton)\n",
      "\n",
      "(VESTA-gui:26557): Gtk-WARNING **: 15:54:30.449: Negative content width -2 (allocation 32, extents 17x17) while allocating gadget (node button, owner GtkButton)\n",
      "\n",
      "(VESTA-gui:26557): Gtk-WARNING **: 15:54:30.449: Negative content width -2 (allocation 32, extents 17x17) while allocating gadget (node button, owner GtkButton)\n",
      "\n",
      "(VESTA-gui:26557): Gtk-CRITICAL **: 15:54:30.451: gtk_box_gadget_distribute: assertion 'size >= 0' failed in GtkNotebook\n",
      "\n",
      "(VESTA-gui:26557): Gtk-WARNING **: 15:54:30.680: Negative content width -2 (allocation 32, extents 17x17) while allocating gadget (node button, owner GtkButton)\n",
      "\n",
      "(VESTA-gui:26557): Gtk-WARNING **: 15:54:30.680: Negative content width -2 (allocation 32, extents 17x17) while allocating gadget (node button, owner GtkButton)\n",
      "\n",
      "(VESTA-gui:26557): Gtk-CRITICAL **: 15:54:30.680: gtk_box_gadget_distribute: assertion 'size >= 0' failed in GtkNotebook\n",
      "\n",
      "(VESTA-gui:26557): Gtk-WARNING **: 15:54:31.203: Negative content width -2 (allocation 32, extents 17x17) while allocating gadget (node button, owner GtkButton)\n",
      "\n",
      "(VESTA-gui:26557): Gtk-WARNING **: 15:54:31.203: Negative content width -2 (allocation 32, extents 17x17) while allocating gadget (node button, owner GtkButton)\n",
      "\n",
      "(VESTA-gui:26557): Gtk-WARNING **: 15:54:31.203: Negative content width -2 (allocation 32, extents 17x17) while allocating gadget (node button, owner GtkButton)\n",
      "\n",
      "(VESTA-gui:26557): Gtk-WARNING **: 15:54:31.203: Negative content width -2 (allocation 32, extents 17x17) while allocating gadget (node button, owner GtkButton)\n",
      "\n",
      "(VESTA-gui:26557): Gtk-CRITICAL **: 15:54:31.204: gtk_box_gadget_distribute: assertion 'size >= 0' failed in GtkNotebook\n",
      "\n",
      "(VESTA-gui:26557): Gtk-WARNING **: 15:54:31.346: Negative content width -2 (allocation 32, extents 17x17) while allocating gadget (node button, owner GtkButton)\n",
      "\n",
      "(VESTA-gui:26557): Gtk-WARNING **: 15:54:31.346: Negative content width -2 (allocation 32, extents 17x17) while allocating gadget (node button, owner GtkButton)\n",
      "\n",
      "(VESTA-gui:26557): Gtk-CRITICAL **: 15:54:31.346: gtk_box_gadget_distribute: assertion 'size >= 0' failed in GtkNotebook\n"
     ]
    }
   ],
   "source": [
    "from my_package import visualize\n",
    "output_file=\"gen_data/POSCAR\"\n",
    "visualize.vesta(output_file)"
   ]
  },
  {
   "cell_type": "code",
   "execution_count": null,
   "metadata": {},
   "outputs": [],
   "source": []
  }
 ],
 "metadata": {
  "kernelspec": {
   "display_name": "Python 3 (ipykernel)",
   "language": "python",
   "name": "python3"
  },
  "language_info": {
   "codemirror_mode": {
    "name": "ipython",
    "version": 3
   },
   "file_extension": ".py",
   "mimetype": "text/x-python",
   "name": "python",
   "nbconvert_exporter": "python",
   "pygments_lexer": "ipython3",
   "version": "3.10.12"
  }
 },
 "nbformat": 4,
 "nbformat_minor": 4
}
